{
 "cells": [
  {
   "cell_type": "code",
   "execution_count": 1,
   "id": "54dc9f7a-3ed3-463d-a8ca-4bf9ba4b4233",
   "metadata": {},
   "outputs": [
    {
     "name": "stdout",
     "output_type": "stream",
     "text": [
      "Original: 61503 clients\n",
      "Sample: 5000 clients\n"
     ]
    }
   ],
   "source": [
    "import pandas as pd\n",
    "\n",
    "# Charge le fichier complet\n",
    "df = pd.read_csv(\"C:/Users/amine/Desktop/projet_openclassrooms/projet8-dashboard/data/all_clients_test.csv\")\n",
    "\n",
    "# Prend un échantillon représentatif (ex: 5000 clients au lieu de tous)\n",
    "df_sample = df.sample(n=5000, random_state=42)\n",
    "\n",
    "# Sauvegarde la version réduite\n",
    "df_sample.to_csv(\"C:/Users/amine/Desktop/projet_openclassrooms/projet8-dashboard/data/all_clients_test_sample.csv\", index=False)\n",
    "\n",
    "print(f\"Original: {len(df)} clients\")\n",
    "print(f\"Sample: {len(df_sample)} clients\")"
   ]
  }
 ],
 "metadata": {
  "kernelspec": {
   "display_name": "Python [conda env:base] *",
   "language": "python",
   "name": "conda-base-py"
  },
  "language_info": {
   "codemirror_mode": {
    "name": "ipython",
    "version": 3
   },
   "file_extension": ".py",
   "mimetype": "text/x-python",
   "name": "python",
   "nbconvert_exporter": "python",
   "pygments_lexer": "ipython3",
   "version": "3.13.5"
  }
 },
 "nbformat": 4,
 "nbformat_minor": 5
}
